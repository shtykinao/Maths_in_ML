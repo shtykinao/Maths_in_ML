{
 "cells": [
  {
   "cell_type": "code",
   "execution_count": 20,
   "metadata": {},
   "outputs": [],
   "source": [
    "import pandas as pd\n",
    "from sklearn.model_selection import train_test_split\n",
    "from sklearn.preprocessing import StandardScaler\n",
    "\n",
    "# Исходные данные\n",
    "data = pd.DataFrame({\n",
    "    'Area': [50, 60, 80, 100, 120],\n",
    "    'Rooms': [2, 2, 3, 4, 4],\n",
    "    'Age': [5, 10, 15, 20, 25],\n",
    "    'Price': [200, 250, 300, 400, 450]\n",
    "})\n",
    "\n",
    "# Разделение данных на признаки и целевую переменную\n",
    "X = data[['Area', 'Rooms', 'Age']]\n",
    "y = data['Price']\n",
    "\n",
    "# Масштабирование данных (полиномиальные признаки чувствительны к масштабу)\n",
    "scaler = StandardScaler()\n",
    "X_scaled = scaler.fit_transform(X)\n",
    "X_scaled = pd.DataFrame(X_scaled, columns=X.columns)\n",
    "\n",
    "# Разделение на обучающую и тестовую выборки\n",
    "X_train, X_test, y_train, y_test = train_test_split(X_scaled, y, test_size=0.2, random_state=42)"
   ]
  },
  {
   "cell_type": "code",
   "execution_count": 21,
   "metadata": {},
   "outputs": [
    {
     "name": "stdout",
     "output_type": "stream",
     "text": [
      "Полиномиальные признаки:\n",
      "        Area     Rooms       Age    Area^2  Area Rooms  Area Age  Rooms^2  \\\n",
      "0  1.483651  1.118034  1.414214  2.201220    1.658772  2.098199     1.25   \n",
      "1 -0.078087  0.000000  0.000000  0.006098   -0.000000 -0.000000     0.00   \n",
      "2 -1.249390 -1.118034 -1.414214  1.560976    1.396861  1.766904     1.25   \n",
      "3  0.702782  1.118034  0.707107  0.493902    0.785734  0.496942     1.25   \n",
      "\n",
      "   Rooms Age  Age^2  \n",
      "0   1.581139    2.0  \n",
      "1   0.000000    0.0  \n",
      "2   1.581139    2.0  \n",
      "3   0.790569    0.5  \n"
     ]
    }
   ],
   "source": [
    "from sklearn.preprocessing import PolynomialFeatures\n",
    "\n",
    "# Создание полиномиальных признаков\n",
    "poly = PolynomialFeatures(degree=2, include_bias=False)\n",
    "X_train_poly = poly.fit_transform(X_train)\n",
    "X_test_poly = poly.transform(X_test)\n",
    "\n",
    "# Имена новых признаков\n",
    "poly_feature_names = poly.get_feature_names_out(X.columns)\n",
    "X_train_poly = pd.DataFrame(X_train_poly, columns=poly_feature_names)\n",
    "X_test_poly = pd.DataFrame(X_test_poly, columns=poly_feature_names)\n",
    "\n",
    "print(\"Полиномиальные признаки:\\n\", X_train_poly.head())"
   ]
  },
  {
   "cell_type": "code",
   "execution_count": 22,
   "metadata": {},
   "outputs": [
    {
     "name": "stdout",
     "output_type": "stream",
     "text": [
      "MSE на полиномиальных признаках: 222.8990639353712\n"
     ]
    }
   ],
   "source": [
    "from sklearn.linear_model import LinearRegression\n",
    "from sklearn.metrics import mean_squared_error\n",
    "\n",
    "# Линейная регрессия на полиномиальных признаках\n",
    "model = LinearRegression()\n",
    "model.fit(X_train_poly, y_train)\n",
    "\n",
    "# Оценка на тестовых данных\n",
    "y_pred = model.predict(X_test_poly)\n",
    "mse_poly = mean_squared_error(y_test, y_pred)\n",
    "print(\"MSE на полиномиальных признаках:\", mse_poly)"
   ]
  },
  {
   "cell_type": "code",
   "execution_count": 18,
   "metadata": {},
   "outputs": [
    {
     "name": "stdout",
     "output_type": "stream",
     "text": [
      "Отобранные признаки: ['Area' 'Rooms' 'Rooms^2']\n"
     ]
    }
   ],
   "source": [
    "from sklearn.linear_model import Lasso\n",
    "\n",
    "# Lasso для отбора признаков\n",
    "lasso = Lasso(alpha=0.12, random_state=42)\n",
    "lasso.fit(X_train_poly, y_train)\n",
    "\n",
    "# Отбор значимых признаков\n",
    "selected_features = poly_feature_names[lasso.coef_ != 0]\n",
    "X_train_poly_selected = X_train_poly[selected_features]\n",
    "X_test_poly_selected = X_test_poly[selected_features]\n",
    "\n",
    "print(\"Отобранные признаки:\", selected_features)"
   ]
  },
  {
   "cell_type": "code",
   "execution_count": 19,
   "metadata": {},
   "outputs": [
    {
     "name": "stdout",
     "output_type": "stream",
     "text": [
      "MSE после отбора признаков: 625.0\n"
     ]
    }
   ],
   "source": [
    "# Линейная регрессия на отобранных признаках\n",
    "model_selected = LinearRegression()\n",
    "model_selected.fit(X_train_poly_selected, y_train)\n",
    "\n",
    "# Оценка на тестовых данных\n",
    "y_pred_selected = model_selected.predict(X_test_poly_selected)\n",
    "mse_selected = mean_squared_error(y_test, y_pred_selected)\n",
    "print(\"MSE после отбора признаков:\", mse_selected)"
   ]
  },
  {
   "cell_type": "code",
   "execution_count": 23,
   "metadata": {},
   "outputs": [
    {
     "name": "stdout",
     "output_type": "stream",
     "text": [
      "Отобранные признаки (RFE): ['Area' 'Rooms' 'Age' 'Area Rooms' 'Rooms^2']\n"
     ]
    }
   ],
   "source": [
    "from sklearn.feature_selection import RFE\n",
    "from sklearn.linear_model import LinearRegression\n",
    "\n",
    "model = LinearRegression()\n",
    "rfe = RFE(estimator=model, n_features_to_select=5)\n",
    "X_train_rfe = rfe.fit_transform(X_train_poly, y_train)\n",
    "X_test_rfe = rfe.transform(X_test_poly)\n",
    "\n",
    "selected_features = poly_feature_names[rfe.support_]\n",
    "print(\"Отобранные признаки (RFE):\", selected_features)"
   ]
  },
  {
   "cell_type": "code",
   "execution_count": null,
   "metadata": {},
   "outputs": [],
   "source": [
    "# Линейная регрессия на отобранных признаках\n",
    "model_selected = LinearRegression()\n",
    "model_selected.fit(X_train_poly_selected, y_train)\n",
    "\n",
    "# Оценка на тестовых данных\n",
    "y_pred_selected = model_selected.predict(X_test_poly_selected)\n",
    "mse_selected = mean_squared_error(y_test, y_pred_selected)\n",
    "print(\"MSE после отбора признаков:\", mse_selected)"
   ]
  }
 ],
 "metadata": {
  "kernelspec": {
   "display_name": "venv",
   "language": "python",
   "name": "python3"
  },
  "language_info": {
   "codemirror_mode": {
    "name": "ipython",
    "version": 3
   },
   "file_extension": ".py",
   "mimetype": "text/x-python",
   "name": "python",
   "nbconvert_exporter": "python",
   "pygments_lexer": "ipython3",
   "version": "3.12.3"
  }
 },
 "nbformat": 4,
 "nbformat_minor": 2
}
