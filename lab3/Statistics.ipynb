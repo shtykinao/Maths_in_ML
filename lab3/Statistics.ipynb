{
 "cells": [
  {
   "cell_type": "code",
   "execution_count": 1,
   "metadata": {
    "colab": {
     "base_uri": "https://localhost:8080/"
    },
    "collapsed": true,
    "executionInfo": {
     "elapsed": 7005,
     "status": "ok",
     "timestamp": 1732657068985,
     "user": {
      "displayName": "Анна Кузьмина",
      "userId": "01853120478442476780"
     },
     "user_tz": -180
    },
    "id": "BliEIptg-E7A",
    "outputId": "598a4840-1e58-450f-e54e-510721525656"
   },
   "outputs": [],
   "source": [
    "import numpy as np\n",
    "import pandas as pd\n",
    "import pyreadstat\n",
    "import seaborn as sns\n",
    "import matplotlib.pyplot as plt"
   ]
  },
  {
   "cell_type": "code",
   "execution_count": 2,
   "metadata": {
    "id": "8RF74mMrXxt3"
   },
   "outputs": [],
   "source": [
    "def stats(data, title):\n",
    "  mean = np.nanmean(data)\n",
    "  median = np.nanmedian(data)\n",
    "  std = np.nanstd(data)\n",
    "  range = np.nanmax(data)-np.nanmin(data)\n",
    "  q25 = np.nanpercentile(data, 25)\n",
    "  q75 = np.nanpercentile(data, 75)\n",
    "  asymmetry = data.skew()\n",
    "  excess = data.kurt()\n",
    "\n",
    "  stats = {title: [mean, median, std, range, q25, q75, asymmetry, excess]}\n",
    "\n",
    "  return pd.DataFrame(stats)"
   ]
  },
  {
   "cell_type": "markdown",
   "metadata": {
    "id": "DbuAv2SegPN6"
   },
   "source": [
    "# 1. Исходный датасет без пропусков и ошибок ввода"
   ]
  },
  {
   "cell_type": "code",
   "execution_count": 19,
   "metadata": {
    "colab": {
     "base_uri": "https://localhost:8080/",
     "height": 300
    },
    "executionInfo": {
     "elapsed": 2315,
     "status": "ok",
     "timestamp": 1732668683515,
     "user": {
      "displayName": "Анна Кузьмина",
      "userId": "01853120478442476780"
     },
     "user_tz": -180
    },
    "id": "XqtzPV3J9bE5",
    "outputId": "8ad545db-306e-43cc-e056-fe5c1edad003"
   },
   "outputs": [
    {
     "data": {
      "text/html": [
       "<div>\n",
       "<style scoped>\n",
       "    .dataframe tbody tr th:only-of-type {\n",
       "        vertical-align: middle;\n",
       "    }\n",
       "\n",
       "    .dataframe tbody tr th {\n",
       "        vertical-align: top;\n",
       "    }\n",
       "\n",
       "    .dataframe thead th {\n",
       "        text-align: right;\n",
       "    }\n",
       "</style>\n",
       "<table border=\"1\" class=\"dataframe\">\n",
       "  <thead>\n",
       "    <tr style=\"text-align: right;\">\n",
       "      <th></th>\n",
       "      <th>ЗП</th>\n",
       "      <th>Образование</th>\n",
       "      <th>Рабочая неделя</th>\n",
       "      <th>Премия</th>\n",
       "      <th>Отпуск</th>\n",
       "    </tr>\n",
       "  </thead>\n",
       "  <tbody>\n",
       "    <tr>\n",
       "      <th>count</th>\n",
       "      <td>332.000000</td>\n",
       "      <td>332.000000</td>\n",
       "      <td>332.000000</td>\n",
       "      <td>332.000000</td>\n",
       "      <td>332.000000</td>\n",
       "    </tr>\n",
       "    <tr>\n",
       "      <th>mean</th>\n",
       "      <td>35397.891566</td>\n",
       "      <td>7.454819</td>\n",
       "      <td>42.138554</td>\n",
       "      <td>8507.382530</td>\n",
       "      <td>30.415663</td>\n",
       "    </tr>\n",
       "    <tr>\n",
       "      <th>std</th>\n",
       "      <td>20207.837650</td>\n",
       "      <td>3.034705</td>\n",
       "      <td>7.483239</td>\n",
       "      <td>8600.805714</td>\n",
       "      <td>11.328204</td>\n",
       "    </tr>\n",
       "    <tr>\n",
       "      <th>min</th>\n",
       "      <td>8000.000000</td>\n",
       "      <td>1.000000</td>\n",
       "      <td>16.000000</td>\n",
       "      <td>200.000000</td>\n",
       "      <td>7.000000</td>\n",
       "    </tr>\n",
       "    <tr>\n",
       "      <th>25%</th>\n",
       "      <td>22000.000000</td>\n",
       "      <td>5.000000</td>\n",
       "      <td>40.000000</td>\n",
       "      <td>3000.000000</td>\n",
       "      <td>28.000000</td>\n",
       "    </tr>\n",
       "    <tr>\n",
       "      <th>50%</th>\n",
       "      <td>30000.000000</td>\n",
       "      <td>6.000000</td>\n",
       "      <td>40.000000</td>\n",
       "      <td>5000.000000</td>\n",
       "      <td>28.000000</td>\n",
       "    </tr>\n",
       "    <tr>\n",
       "      <th>75%</th>\n",
       "      <td>45000.000000</td>\n",
       "      <td>10.000000</td>\n",
       "      <td>45.000000</td>\n",
       "      <td>10000.000000</td>\n",
       "      <td>36.000000</td>\n",
       "    </tr>\n",
       "    <tr>\n",
       "      <th>max</th>\n",
       "      <td>200000.000000</td>\n",
       "      <td>16.000000</td>\n",
       "      <td>84.000000</td>\n",
       "      <td>60000.000000</td>\n",
       "      <td>60.000000</td>\n",
       "    </tr>\n",
       "  </tbody>\n",
       "</table>\n",
       "</div>"
      ],
      "text/plain": [
       "                  ЗП  Образование  Рабочая неделя        Премия      Отпуск\n",
       "count     332.000000   332.000000      332.000000    332.000000  332.000000\n",
       "mean    35397.891566     7.454819       42.138554   8507.382530   30.415663\n",
       "std     20207.837650     3.034705        7.483239   8600.805714   11.328204\n",
       "min      8000.000000     1.000000       16.000000    200.000000    7.000000\n",
       "25%     22000.000000     5.000000       40.000000   3000.000000   28.000000\n",
       "50%     30000.000000     6.000000       40.000000   5000.000000   28.000000\n",
       "75%     45000.000000    10.000000       45.000000  10000.000000   36.000000\n",
       "max    200000.000000    16.000000       84.000000  60000.000000   60.000000"
      ]
     },
     "execution_count": 19,
     "metadata": {},
     "output_type": "execute_result"
    }
   ],
   "source": [
    "file_path = 'data/r29i_os_73.sav'\n",
    "df, meta = pyreadstat.read_sav(file_path) \n",
    "\n",
    "df = df[['yj13.2','yj72.18a','yj6.2','yj10.2','yj21b']]\n",
    "df.rename(columns = {'yj13.2':'ЗП',\n",
    "                     'yj72.18a':'Образование',\n",
    "                     'yj6.2':'Рабочая неделя',\n",
    "                     'yj10.2':'Премия',\n",
    "                     'yj21b':'Отпуск'},\n",
    "                inplace = True)\n",
    "\n",
    "values_to_remove = [99999997, 99999998, 99999999] \n",
    "df = df[~df.isin(values_to_remove)]\n",
    "df['Премия'] = df['Премия'].replace(99999996, np.nan)\n",
    "\n",
    "\n",
    "df.dropna(inplace = True)\n",
    "df.describe()"
   ]
  },
  {
   "cell_type": "markdown",
   "metadata": {
    "id": "BJd9Rp3jifY3"
   },
   "source": [
    "Сабсет заработной платы"
   ]
  },
  {
   "cell_type": "code",
   "execution_count": 4,
   "metadata": {
    "id": "DWhaiw-cb45W"
   },
   "outputs": [],
   "source": [
    "dataset1_zp = df['ЗП']"
   ]
  },
  {
   "cell_type": "markdown",
   "metadata": {
    "id": "dVaclLtBE-aY"
   },
   "source": [
    "Сабсет рабочих часов на неделе"
   ]
  },
  {
   "cell_type": "code",
   "execution_count": 5,
   "metadata": {
    "id": "GFHpXM9vcwyw"
   },
   "outputs": [],
   "source": [
    "dataset1_rn = df['Рабочая неделя']"
   ]
  },
  {
   "cell_type": "markdown",
   "metadata": {
    "id": "YPUcHRADFnUJ"
   },
   "source": [
    "Стат.характеристики для образования (дискретная величина)"
   ]
  },
  {
   "cell_type": "code",
   "execution_count": 6,
   "metadata": {
    "colab": {
     "base_uri": "https://localhost:8080/",
     "height": 240
    },
    "executionInfo": {
     "elapsed": 345,
     "status": "ok",
     "timestamp": 1732668701583,
     "user": {
      "displayName": "Анна Кузьмина",
      "userId": "01853120478442476780"
     },
     "user_tz": -180
    },
    "id": "tXyx9nmhZk02",
    "outputId": "734592a8-7d74-476f-ba0d-0ca23a8f2140"
   },
   "outputs": [
    {
     "data": {
      "text/plain": [
       "Образование\n",
       "3.0    154\n",
       "2.0    150\n",
       "1.0     27\n",
       "4.0      1\n",
       "Name: count, dtype: int64"
      ]
     },
     "execution_count": 6,
     "metadata": {},
     "output_type": "execute_result"
    }
   ],
   "source": [
    "data1 = df['Образование'].copy()\n",
    "data1.replace({1:1, # Замена на бОльшие группы\n",
    "              2:1,\n",
    "              3:2,\n",
    "              4:2,\n",
    "              5:2,\n",
    "              6:2,\n",
    "              10:3,\n",
    "              11:3,\n",
    "              12:3,\n",
    "              13:4,\n",
    "              14:4,\n",
    "              15:2,\n",
    "              16:4,\n",
    "              17:4},\n",
    "             inplace = True)\n",
    "freq1 = data1.value_counts()\n",
    "freq1"
   ]
  },
  {
   "cell_type": "code",
   "execution_count": 7,
   "metadata": {
    "colab": {
     "base_uri": "https://localhost:8080/",
     "height": 604
    },
    "executionInfo": {
     "elapsed": 306,
     "status": "ok",
     "timestamp": 1732563116311,
     "user": {
      "displayName": "Анна Кузьмина",
      "userId": "01853120478442476780"
     },
     "user_tz": -180
    },
    "id": "U0DKAN_Y-bs9",
    "outputId": "786c2da8-54fc-45f0-ad31-6b20c90665d9"
   },
   "outputs": [
    {
     "name": "stderr",
     "output_type": "stream",
     "text": [
      "/var/folders/m8/xclh77116fv8fn8ck2n6sm1r0000gn/T/ipykernel_69080/2293838780.py:3: FutureWarning: \n",
      "\n",
      "Passing `palette` without assigning `hue` is deprecated and will be removed in v0.14.0. Assign the `y` variable to `hue` and set `legend=False` for the same effect.\n",
      "\n",
      "  sns.barplot(x=freq1.values,y=freq1.index,  palette='viridis', orient='h')\n"
     ]
    },
    {
     "data": {
      "image/png": "[encoded data removed]",
      "text/plain": [
       "<Figure size 800x500 with 1 Axes>"
      ]
     },
     "metadata": {},
     "output_type": "display_data"
    }
   ],
   "source": [
    "# Построение гистограммы\n",
    "plt.figure(figsize=(8, 5))\n",
    "sns.barplot(x=freq1.values,y=freq1.index,  palette='viridis', orient='h')\n",
    "\n",
    "plt.title('Распределение уровня образования', fontsize=16)\n",
    "plt.ylabel('Уровень образования', fontsize=12)\n",
    "plt.xlabel('Количество людей', fontsize=12)\n",
    "plt.show()\n"
   ]
  },
  {
   "cell_type": "markdown",
   "metadata": {
    "id": "49m_KrhaGHM_"
   },
   "source": [
    "Сабсет премии за прошлый месяц"
   ]
  },
  {
   "cell_type": "code",
   "execution_count": 8,
   "metadata": {
    "id": "ypbELEu-lQSB"
   },
   "outputs": [],
   "source": [
    "dataset1_prem = df['Премия']"
   ]
  },
  {
   "cell_type": "markdown",
   "metadata": {
    "id": "4vJ7XSckGtmB"
   },
   "source": [
    "Сабсет дней отпуска за последний год\n",
    "\n"
   ]
  },
  {
   "cell_type": "code",
   "execution_count": 9,
   "metadata": {
    "id": "frEZYu84lZVz"
   },
   "outputs": [],
   "source": [
    "dataset1_otp = df['Отпуск']"
   ]
  },
  {
   "cell_type": "markdown",
   "metadata": {
    "id": "KQU5F9xW0Jk7"
   },
   "source": [
    "# 2. Датасет с заменой пропусков на среднее значение"
   ]
  },
  {
   "cell_type": "code",
   "execution_count": 11,
   "metadata": {
    "colab": {
     "base_uri": "https://localhost:8080/",
     "height": 320
    },
    "executionInfo": {
     "elapsed": 514,
     "status": "ok",
     "timestamp": 1732667955151,
     "user": {
      "displayName": "Анна Кузьмина",
      "userId": "01853120478442476780"
     },
     "user_tz": -180
    },
    "id": "dmXd9KE90oK0",
    "outputId": "667f0940-9190-4b27-8e8c-c35de4903822"
   },
   "outputs": [
    {
     "data": {
      "text/html": [
       "<div>\n",
       "<style scoped>\n",
       "    .dataframe tbody tr th:only-of-type {\n",
       "        vertical-align: middle;\n",
       "    }\n",
       "\n",
       "    .dataframe tbody tr th {\n",
       "        vertical-align: top;\n",
       "    }\n",
       "\n",
       "    .dataframe thead th {\n",
       "        text-align: right;\n",
       "    }\n",
       "</style>\n",
       "<table border=\"1\" class=\"dataframe\">\n",
       "  <thead>\n",
       "    <tr style=\"text-align: right;\">\n",
       "      <th></th>\n",
       "      <th>ЗП</th>\n",
       "      <th>Образование</th>\n",
       "      <th>РабочаяНеделя</th>\n",
       "      <th>Премия</th>\n",
       "      <th>Отпуск</th>\n",
       "      <th>Удовлетворенность</th>\n",
       "    </tr>\n",
       "  </thead>\n",
       "  <tbody>\n",
       "    <tr>\n",
       "      <th>count</th>\n",
       "      <td>3402.000000</td>\n",
       "      <td>3402.000000</td>\n",
       "      <td>3402.000000</td>\n",
       "      <td>3402.000000</td>\n",
       "      <td>3402.000000</td>\n",
       "      <td>3402.000000</td>\n",
       "    </tr>\n",
       "    <tr>\n",
       "      <th>mean</th>\n",
       "      <td>26836.833858</td>\n",
       "      <td>2.201058</td>\n",
       "      <td>42.470018</td>\n",
       "      <td>6483.539165</td>\n",
       "      <td>27.416516</td>\n",
       "      <td>2.214874</td>\n",
       "    </tr>\n",
       "    <tr>\n",
       "      <th>std</th>\n",
       "      <td>11889.452108</td>\n",
       "      <td>0.650803</td>\n",
       "      <td>6.141463</td>\n",
       "      <td>1449.041054</td>\n",
       "      <td>6.717209</td>\n",
       "      <td>0.779389</td>\n",
       "    </tr>\n",
       "    <tr>\n",
       "      <th>min</th>\n",
       "      <td>1081.000000</td>\n",
       "      <td>1.000000</td>\n",
       "      <td>28.000000</td>\n",
       "      <td>200.000000</td>\n",
       "      <td>8.000000</td>\n",
       "      <td>1.000000</td>\n",
       "    </tr>\n",
       "    <tr>\n",
       "      <th>25%</th>\n",
       "      <td>18000.000000</td>\n",
       "      <td>2.000000</td>\n",
       "      <td>40.000000</td>\n",
       "      <td>6487.010782</td>\n",
       "      <td>27.490365</td>\n",
       "      <td>2.000000</td>\n",
       "    </tr>\n",
       "    <tr>\n",
       "      <th>50%</th>\n",
       "      <td>25000.000000</td>\n",
       "      <td>2.000000</td>\n",
       "      <td>40.000000</td>\n",
       "      <td>6487.010782</td>\n",
       "      <td>27.490365</td>\n",
       "      <td>2.000000</td>\n",
       "    </tr>\n",
       "    <tr>\n",
       "      <th>75%</th>\n",
       "      <td>33000.000000</td>\n",
       "      <td>3.000000</td>\n",
       "      <td>48.000000</td>\n",
       "      <td>6487.010782</td>\n",
       "      <td>28.000000</td>\n",
       "      <td>3.000000</td>\n",
       "    </tr>\n",
       "    <tr>\n",
       "      <th>max</th>\n",
       "      <td>68000.000000</td>\n",
       "      <td>4.000000</td>\n",
       "      <td>60.000000</td>\n",
       "      <td>20000.000000</td>\n",
       "      <td>51.000000</td>\n",
       "      <td>5.000000</td>\n",
       "    </tr>\n",
       "  </tbody>\n",
       "</table>\n",
       "</div>"
      ],
      "text/plain": [
       "                 ЗП  Образование  РабочаяНеделя        Премия       Отпуск  \\\n",
       "count   3402.000000  3402.000000    3402.000000   3402.000000  3402.000000   \n",
       "mean   26836.833858     2.201058      42.470018   6483.539165    27.416516   \n",
       "std    11889.452108     0.650803       6.141463   1449.041054     6.717209   \n",
       "min     1081.000000     1.000000      28.000000    200.000000     8.000000   \n",
       "25%    18000.000000     2.000000      40.000000   6487.010782    27.490365   \n",
       "50%    25000.000000     2.000000      40.000000   6487.010782    27.490365   \n",
       "75%    33000.000000     3.000000      48.000000   6487.010782    28.000000   \n",
       "max    68000.000000     4.000000      60.000000  20000.000000    51.000000   \n",
       "\n",
       "       Удовлетворенность  \n",
       "count        3402.000000  \n",
       "mean            2.214874  \n",
       "std             0.779389  \n",
       "min             1.000000  \n",
       "25%             2.000000  \n",
       "50%             2.000000  \n",
       "75%             3.000000  \n",
       "max             5.000000  "
      ]
     },
     "execution_count": 11,
     "metadata": {},
     "output_type": "execute_result"
    }
   ],
   "source": [
    "file_path = 'data/data_mean.sav'\n",
    "df, meta = pyreadstat.read_sav(file_path)\n",
    "\n",
    "df.describe()"
   ]
  },
  {
   "cell_type": "markdown",
   "metadata": {
    "id": "6vCgJvJ10hJx"
   },
   "source": [
    "Сабсет ЗП"
   ]
  },
  {
   "cell_type": "code",
   "execution_count": 12,
   "metadata": {
    "id": "APBrMlWAinfp"
   },
   "outputs": [],
   "source": [
    "dataset2_zp = df['ЗП']"
   ]
  },
  {
   "cell_type": "markdown",
   "metadata": {
    "id": "dhJr2u9bFeps"
   },
   "source": [
    "Сабсет рабочей недели"
   ]
  },
  {
   "cell_type": "code",
   "execution_count": 13,
   "metadata": {
    "id": "f0sECI8Wls5D"
   },
   "outputs": [],
   "source": [
    "dataset2_rn = df['РабочаяНеделя']"
   ]
  },
  {
   "cell_type": "markdown",
   "metadata": {
    "id": "E78Q1GnW1aki"
   },
   "source": [
    "Стат.характеристики для образования (дискретная величина)"
   ]
  },
  {
   "cell_type": "code",
   "execution_count": 14,
   "metadata": {
    "colab": {
     "base_uri": "https://localhost:8080/",
     "height": 240
    },
    "executionInfo": {
     "elapsed": 415,
     "status": "ok",
     "timestamp": 1732666775172,
     "user": {
      "displayName": "Анна Кузьмина",
      "userId": "01853120478442476780"
     },
     "user_tz": -180
    },
    "id": "FvXwq9YQ1alS",
    "outputId": "c8d38b3f-345b-454f-d2e2-580860e00b28"
   },
   "outputs": [
    {
     "data": {
      "text/plain": [
       "Образование\n",
       "2.0    1863\n",
       "3.0    1092\n",
       "1.0     434\n",
       "4.0      13\n",
       "Name: count, dtype: int64"
      ]
     },
     "execution_count": 14,
     "metadata": {},
     "output_type": "execute_result"
    }
   ],
   "source": [
    "data2 = df['Образование'].copy()\n",
    "\n",
    "freq2 = data2.value_counts()\n",
    "freq2"
   ]
  },
  {
   "cell_type": "code",
   "execution_count": 15,
   "metadata": {
    "colab": {
     "base_uri": "https://localhost:8080/",
     "height": 604
    },
    "executionInfo": {
     "elapsed": 368,
     "status": "ok",
     "timestamp": 1732563140291,
     "user": {
      "displayName": "Анна Кузьмина",
      "userId": "01853120478442476780"
     },
     "user_tz": -180
    },
    "id": "_i4389tV1alT",
    "outputId": "614ff5e3-7cac-4fd0-9e66-6538f51ace55"
   },
   "outputs": [
    {
     "name": "stderr",
     "output_type": "stream",
     "text": [
      "/var/folders/m8/xclh77116fv8fn8ck2n6sm1r0000gn/T/ipykernel_69080/888284945.py:3: FutureWarning: \n",
      "\n",
      "Passing `palette` without assigning `hue` is deprecated and will be removed in v0.14.0. Assign the `y` variable to `hue` and set `legend=False` for the same effect.\n",
      "\n",
      "  sns.barplot(x=freq2.values,y=freq2.index,  palette='viridis', orient='h')\n"
     ]
    },
    {
     "data": {
      "image/png": "[encoded data removed]",
      "text/plain": [
       "<Figure size 800x500 with 1 Axes>"
      ]
     },
     "metadata": {},
     "output_type": "display_data"
    }
   ],
   "source": [
    "# Построение гистограммы\n",
    "plt.figure(figsize=(8, 5))\n",
    "sns.barplot(x=freq2.values,y=freq2.index,  palette='viridis', orient='h')\n",
    "\n",
    "plt.title('Распределение уровня образования', fontsize=16)\n",
    "plt.ylabel('Уровень образования', fontsize=12)\n",
    "plt.xlabel('Количество людей', fontsize=12)\n",
    "plt.show()\n"
   ]
  },
  {
   "cell_type": "markdown",
   "metadata": {
    "id": "_T0yC_YB1gvV"
   },
   "source": [
    "Сабсет премии"
   ]
  },
  {
   "cell_type": "code",
   "execution_count": 16,
   "metadata": {
    "id": "7ew5nHBgl0bV"
   },
   "outputs": [],
   "source": [
    "dataset2_prem = df['Премия']"
   ]
  },
  {
   "cell_type": "markdown",
   "metadata": {
    "id": "KBePP6YO1nnI"
   },
   "source": [
    "Сабсет отпуска\n",
    "\n"
   ]
  },
  {
   "cell_type": "code",
   "execution_count": 20,
   "metadata": {
    "id": "mkCWdyT6l5Dp"
   },
   "outputs": [],
   "source": [
    "dataset2_otp = df['Отпуск']"
   ]
  },
  {
   "cell_type": "markdown",
   "metadata": {
    "id": "9m5HtwyT3_fs"
   },
   "source": [
    "# 3. Датасет с заменой пропусков на медианное значение"
   ]
  },
  {
   "cell_type": "code",
   "execution_count": 22,
   "metadata": {
    "colab": {
     "base_uri": "https://localhost:8080/",
     "height": 320
    },
    "executionInfo": {
     "elapsed": 405,
     "status": "ok",
     "timestamp": 1732667967245,
     "user": {
      "displayName": "Анна Кузьмина",
      "userId": "01853120478442476780"
     },
     "user_tz": -180
    },
    "id": "niYamzKh3_gC",
    "outputId": "bf52d7fa-c1d6-426b-f543-f464fd5517bd"
   },
   "outputs": [
    {
     "data": {
      "text/html": [
       "<div>\n",
       "<style scoped>\n",
       "    .dataframe tbody tr th:only-of-type {\n",
       "        vertical-align: middle;\n",
       "    }\n",
       "\n",
       "    .dataframe tbody tr th {\n",
       "        vertical-align: top;\n",
       "    }\n",
       "\n",
       "    .dataframe thead th {\n",
       "        text-align: right;\n",
       "    }\n",
       "</style>\n",
       "<table border=\"1\" class=\"dataframe\">\n",
       "  <thead>\n",
       "    <tr style=\"text-align: right;\">\n",
       "      <th></th>\n",
       "      <th>ЗП</th>\n",
       "      <th>Образование</th>\n",
       "      <th>РабочаяНеделя</th>\n",
       "      <th>Премия</th>\n",
       "      <th>Отпуск</th>\n",
       "      <th>Удовлетворенность</th>\n",
       "    </tr>\n",
       "  </thead>\n",
       "  <tbody>\n",
       "    <tr>\n",
       "      <th>count</th>\n",
       "      <td>3402.000000</td>\n",
       "      <td>3402.000000</td>\n",
       "      <td>3402.000000</td>\n",
       "      <td>3402.000000</td>\n",
       "      <td>3402.000000</td>\n",
       "      <td>3402.000000</td>\n",
       "    </tr>\n",
       "    <tr>\n",
       "      <th>mean</th>\n",
       "      <td>26660.402116</td>\n",
       "      <td>2.201058</td>\n",
       "      <td>42.470018</td>\n",
       "      <td>5135.962963</td>\n",
       "      <td>27.595532</td>\n",
       "      <td>2.214874</td>\n",
       "    </tr>\n",
       "    <tr>\n",
       "      <th>std</th>\n",
       "      <td>11899.935579</td>\n",
       "      <td>0.650803</td>\n",
       "      <td>6.141463</td>\n",
       "      <td>1509.408711</td>\n",
       "      <td>6.723581</td>\n",
       "      <td>0.779389</td>\n",
       "    </tr>\n",
       "    <tr>\n",
       "      <th>min</th>\n",
       "      <td>1081.000000</td>\n",
       "      <td>1.000000</td>\n",
       "      <td>28.000000</td>\n",
       "      <td>200.000000</td>\n",
       "      <td>8.000000</td>\n",
       "      <td>1.000000</td>\n",
       "    </tr>\n",
       "    <tr>\n",
       "      <th>25%</th>\n",
       "      <td>18000.000000</td>\n",
       "      <td>2.000000</td>\n",
       "      <td>40.000000</td>\n",
       "      <td>5000.000000</td>\n",
       "      <td>28.000000</td>\n",
       "      <td>2.000000</td>\n",
       "    </tr>\n",
       "    <tr>\n",
       "      <th>50%</th>\n",
       "      <td>25000.000000</td>\n",
       "      <td>2.000000</td>\n",
       "      <td>40.000000</td>\n",
       "      <td>5000.000000</td>\n",
       "      <td>28.000000</td>\n",
       "      <td>2.000000</td>\n",
       "    </tr>\n",
       "    <tr>\n",
       "      <th>75%</th>\n",
       "      <td>33000.000000</td>\n",
       "      <td>3.000000</td>\n",
       "      <td>48.000000</td>\n",
       "      <td>5000.000000</td>\n",
       "      <td>28.000000</td>\n",
       "      <td>3.000000</td>\n",
       "    </tr>\n",
       "    <tr>\n",
       "      <th>max</th>\n",
       "      <td>68000.000000</td>\n",
       "      <td>4.000000</td>\n",
       "      <td>60.000000</td>\n",
       "      <td>20000.000000</td>\n",
       "      <td>51.000000</td>\n",
       "      <td>5.000000</td>\n",
       "    </tr>\n",
       "  </tbody>\n",
       "</table>\n",
       "</div>"
      ],
      "text/plain": [
       "                 ЗП  Образование  РабочаяНеделя        Премия       Отпуск  \\\n",
       "count   3402.000000  3402.000000    3402.000000   3402.000000  3402.000000   \n",
       "mean   26660.402116     2.201058      42.470018   5135.962963    27.595532   \n",
       "std    11899.935579     0.650803       6.141463   1509.408711     6.723581   \n",
       "min     1081.000000     1.000000      28.000000    200.000000     8.000000   \n",
       "25%    18000.000000     2.000000      40.000000   5000.000000    28.000000   \n",
       "50%    25000.000000     2.000000      40.000000   5000.000000    28.000000   \n",
       "75%    33000.000000     3.000000      48.000000   5000.000000    28.000000   \n",
       "max    68000.000000     4.000000      60.000000  20000.000000    51.000000   \n",
       "\n",
       "       Удовлетворенность  \n",
       "count        3402.000000  \n",
       "mean            2.214874  \n",
       "std             0.779389  \n",
       "min             1.000000  \n",
       "25%             2.000000  \n",
       "50%             2.000000  \n",
       "75%             3.000000  \n",
       "max             5.000000  "
      ]
     },
     "execution_count": 22,
     "metadata": {},
     "output_type": "execute_result"
    }
   ],
   "source": [
    "file_path = 'data/data_median.sav'\n",
    "df, meta = pyreadstat.read_sav(file_path)\n",
    "\n",
    "df.describe()"
   ]
  },
  {
   "cell_type": "markdown",
   "metadata": {
    "id": "LYZUCYhW3_gC"
   },
   "source": [
    "Сабсет ЗП"
   ]
  },
  {
   "cell_type": "code",
   "execution_count": 23,
   "metadata": {
    "id": "NGSswmAyir_L"
   },
   "outputs": [],
   "source": [
    "dataset3_zp = df['ЗП']"
   ]
  },
  {
   "cell_type": "markdown",
   "metadata": {
    "id": "VrahwvRpFjn4"
   },
   "source": [
    "Сабсет рабочей недели"
   ]
  },
  {
   "cell_type": "code",
   "execution_count": 24,
   "metadata": {
    "id": "zHbG8mvHmCR8"
   },
   "outputs": [],
   "source": [
    "dataset3_rn = df['РабочаяНеделя']"
   ]
  },
  {
   "cell_type": "markdown",
   "metadata": {
    "id": "454R2PPt3_gF"
   },
   "source": [
    "Стат.характеристики для образования (дискретная величина)"
   ]
  },
  {
   "cell_type": "code",
   "execution_count": 25,
   "metadata": {
    "colab": {
     "base_uri": "https://localhost:8080/",
     "height": 240
    },
    "executionInfo": {
     "elapsed": 390,
     "status": "ok",
     "timestamp": 1732666806004,
     "user": {
      "displayName": "Анна Кузьмина",
      "userId": "01853120478442476780"
     },
     "user_tz": -180
    },
    "id": "2xySD5T_3_gG",
    "outputId": "3c434b0b-61fe-4dbb-e5ef-86eaefc0ef2b"
   },
   "outputs": [
    {
     "data": {
      "text/plain": [
       "Образование\n",
       "2.0    1863\n",
       "3.0    1092\n",
       "1.0     434\n",
       "4.0      13\n",
       "Name: count, dtype: int64"
      ]
     },
     "execution_count": 25,
     "metadata": {},
     "output_type": "execute_result"
    }
   ],
   "source": [
    "data3 = df['Образование'].copy()\n",
    "\n",
    "freq3 = data3.value_counts()\n",
    "freq3"
   ]
  },
  {
   "cell_type": "code",
   "execution_count": 26,
   "metadata": {
    "colab": {
     "base_uri": "https://localhost:8080/",
     "height": 604
    },
    "executionInfo": {
     "elapsed": 343,
     "status": "ok",
     "timestamp": 1732563161872,
     "user": {
      "displayName": "Анна Кузьмина",
      "userId": "01853120478442476780"
     },
     "user_tz": -180
    },
    "id": "mopX77KA3_gG",
    "outputId": "047a7107-bf55-4c74-d069-f0319c388bae"
   },
   "outputs": [
    {
     "name": "stderr",
     "output_type": "stream",
     "text": [
      "/var/folders/m8/xclh77116fv8fn8ck2n6sm1r0000gn/T/ipykernel_69080/884921015.py:3: FutureWarning: \n",
      "\n",
      "Passing `palette` without assigning `hue` is deprecated and will be removed in v0.14.0. Assign the `y` variable to `hue` and set `legend=False` for the same effect.\n",
      "\n",
      "  sns.barplot(x=freq3.values,y=freq3.index,  palette='viridis', orient='h')\n"
     ]
    },
    {
     "data": {
      "image/png": "[encoded data removed]",
      "text/plain": [
       "<Figure size 800x500 with 1 Axes>"
      ]
     },
     "metadata": {},
     "output_type": "display_data"
    }
   ],
   "source": [
    "# Построение гистограммы\n",
    "plt.figure(figsize=(8, 5))\n",
    "sns.barplot(x=freq3.values,y=freq3.index,  palette='viridis', orient='h')\n",
    "\n",
    "plt.title('Распределение уровня образования', fontsize=16)\n",
    "plt.ylabel('Уровень образования', fontsize=12)\n",
    "plt.xlabel('Количество людей', fontsize=12)\n",
    "plt.show()\n"
   ]
  },
  {
   "cell_type": "markdown",
   "metadata": {
    "id": "AXPgu1gQ3_gL"
   },
   "source": [
    "Сабсет премии"
   ]
  },
  {
   "cell_type": "code",
   "execution_count": 27,
   "metadata": {
    "id": "W4OqF8P-mIe5"
   },
   "outputs": [],
   "source": [
    "dataset3_prem = df['Премия']"
   ]
  },
  {
   "cell_type": "markdown",
   "metadata": {
    "id": "0fDV-8T43_gL"
   },
   "source": [
    "Сабсет отпуска\n",
    "\n"
   ]
  },
  {
   "cell_type": "code",
   "execution_count": 28,
   "metadata": {
    "id": "CFoFMemnmNq2"
   },
   "outputs": [],
   "source": [
    "dataset3_otp = df['Отпуск']"
   ]
  },
  {
   "cell_type": "markdown",
   "metadata": {
    "id": "holGddwDWhJy"
   },
   "source": [
    "# 4. Датасет с сэмплированными данными"
   ]
  },
  {
   "cell_type": "code",
   "execution_count": 30,
   "metadata": {
    "colab": {
     "base_uri": "https://localhost:8080/",
     "height": 300
    },
    "executionInfo": {
     "elapsed": 368,
     "status": "ok",
     "timestamp": 1732667999913,
     "user": {
      "displayName": "Анна Кузьмина",
      "userId": "01853120478442476780"
     },
     "user_tz": -180
    },
    "id": "DdlMiftSWhJ0",
    "outputId": "f99e1b63-a169-4191-f78c-05d44e0914d8"
   },
   "outputs": [
    {
     "data": {
      "text/html": [
       "<div>\n",
       "<style scoped>\n",
       "    .dataframe tbody tr th:only-of-type {\n",
       "        vertical-align: middle;\n",
       "    }\n",
       "\n",
       "    .dataframe tbody tr th {\n",
       "        vertical-align: top;\n",
       "    }\n",
       "\n",
       "    .dataframe thead th {\n",
       "        text-align: right;\n",
       "    }\n",
       "</style>\n",
       "<table border=\"1\" class=\"dataframe\">\n",
       "  <thead>\n",
       "    <tr style=\"text-align: right;\">\n",
       "      <th></th>\n",
       "      <th>ЗП</th>\n",
       "      <th>Образование</th>\n",
       "      <th>Рабочая неделя</th>\n",
       "      <th>Премия</th>\n",
       "      <th>Отпуск</th>\n",
       "    </tr>\n",
       "  </thead>\n",
       "  <tbody>\n",
       "    <tr>\n",
       "      <th>count</th>\n",
       "      <td>3402.000000</td>\n",
       "      <td>3402.000000</td>\n",
       "      <td>3402.000000</td>\n",
       "      <td>3402.000000</td>\n",
       "      <td>3402.000000</td>\n",
       "    </tr>\n",
       "    <tr>\n",
       "      <th>mean</th>\n",
       "      <td>26753.449875</td>\n",
       "      <td>2.201058</td>\n",
       "      <td>42.470018</td>\n",
       "      <td>6045.898853</td>\n",
       "      <td>27.691946</td>\n",
       "    </tr>\n",
       "    <tr>\n",
       "      <th>std</th>\n",
       "      <td>12327.800162</td>\n",
       "      <td>0.650803</td>\n",
       "      <td>6.141463</td>\n",
       "      <td>4167.538439</td>\n",
       "      <td>8.224631</td>\n",
       "    </tr>\n",
       "    <tr>\n",
       "      <th>min</th>\n",
       "      <td>1081.000000</td>\n",
       "      <td>1.000000</td>\n",
       "      <td>28.000000</td>\n",
       "      <td>200.000000</td>\n",
       "      <td>8.000000</td>\n",
       "    </tr>\n",
       "    <tr>\n",
       "      <th>25%</th>\n",
       "      <td>18000.000000</td>\n",
       "      <td>2.000000</td>\n",
       "      <td>40.000000</td>\n",
       "      <td>2880.703673</td>\n",
       "      <td>24.000000</td>\n",
       "    </tr>\n",
       "    <tr>\n",
       "      <th>50%</th>\n",
       "      <td>25000.000000</td>\n",
       "      <td>2.000000</td>\n",
       "      <td>40.000000</td>\n",
       "      <td>5000.000000</td>\n",
       "      <td>28.000000</td>\n",
       "    </tr>\n",
       "    <tr>\n",
       "      <th>75%</th>\n",
       "      <td>35000.000000</td>\n",
       "      <td>3.000000</td>\n",
       "      <td>48.000000</td>\n",
       "      <td>8235.430504</td>\n",
       "      <td>32.000000</td>\n",
       "    </tr>\n",
       "    <tr>\n",
       "      <th>max</th>\n",
       "      <td>68000.000000</td>\n",
       "      <td>4.000000</td>\n",
       "      <td>60.000000</td>\n",
       "      <td>20000.000000</td>\n",
       "      <td>51.000000</td>\n",
       "    </tr>\n",
       "  </tbody>\n",
       "</table>\n",
       "</div>"
      ],
      "text/plain": [
       "                 ЗП  Образование  Рабочая неделя        Премия       Отпуск\n",
       "count   3402.000000  3402.000000     3402.000000   3402.000000  3402.000000\n",
       "mean   26753.449875     2.201058       42.470018   6045.898853    27.691946\n",
       "std    12327.800162     0.650803        6.141463   4167.538439     8.224631\n",
       "min     1081.000000     1.000000       28.000000    200.000000     8.000000\n",
       "25%    18000.000000     2.000000       40.000000   2880.703673    24.000000\n",
       "50%    25000.000000     2.000000       40.000000   5000.000000    28.000000\n",
       "75%    35000.000000     3.000000       48.000000   8235.430504    32.000000\n",
       "max    68000.000000     4.000000       60.000000  20000.000000    51.000000"
      ]
     },
     "execution_count": 30,
     "metadata": {},
     "output_type": "execute_result"
    }
   ],
   "source": [
    "file_path = 'data/df2.csv'\n",
    "df = pd.read_csv(file_path)\n",
    "\n",
    "df = df[['yj13.2','yj72.18a','yj6.2','yj10.2','yj21b']]\n",
    "df.rename(columns = {'yj13.2':'ЗП',\n",
    "                     'yj72.18a':'Образование',\n",
    "                     'yj6.2':'Рабочая неделя',\n",
    "                     'yj10.2':'Премия',\n",
    "                     'yj21b':'Отпуск'},\n",
    "                inplace = True)\n",
    "\n",
    "df.describe()"
   ]
  },
  {
   "cell_type": "markdown",
   "metadata": {
    "id": "s0WFAjl6WhJ1"
   },
   "source": [
    "Сабсет ЗП"
   ]
  },
  {
   "cell_type": "code",
   "execution_count": 31,
   "metadata": {
    "id": "44BZBP8ziwUk"
   },
   "outputs": [],
   "source": [
    "dataset4_zp = df['ЗП']"
   ]
  },
  {
   "cell_type": "markdown",
   "metadata": {
    "id": "JaIkfcX-WhJ3"
   },
   "source": [
    "Сабсет рабочей недели"
   ]
  },
  {
   "cell_type": "code",
   "execution_count": 32,
   "metadata": {
    "id": "SKUVD08_mXEp"
   },
   "outputs": [],
   "source": [
    "dataset4_rn = df['Рабочая неделя']"
   ]
  },
  {
   "cell_type": "markdown",
   "metadata": {
    "id": "MpSHOsL8WhJ4"
   },
   "source": [
    "Стат.характеристики для образования (дискретная величина)"
   ]
  },
  {
   "cell_type": "code",
   "execution_count": 33,
   "metadata": {
    "colab": {
     "base_uri": "https://localhost:8080/",
     "height": 240
    },
    "executionInfo": {
     "elapsed": 399,
     "status": "ok",
     "timestamp": 1732666547625,
     "user": {
      "displayName": "Анна Кузьмина",
      "userId": "01853120478442476780"
     },
     "user_tz": -180
    },
    "id": "zLoouxkXWhJ4",
    "outputId": "9de898ee-3fa5-43dc-fc4a-052d42a4121d"
   },
   "outputs": [
    {
     "data": {
      "text/plain": [
       "Образование\n",
       "2.0    1863\n",
       "3.0    1092\n",
       "1.0     434\n",
       "4.0      13\n",
       "Name: count, dtype: int64"
      ]
     },
     "execution_count": 33,
     "metadata": {},
     "output_type": "execute_result"
    }
   ],
   "source": [
    "data4 = df['Образование'].copy()\n",
    "\n",
    "freq4 = data4.value_counts()\n",
    "freq4"
   ]
  },
  {
   "cell_type": "code",
   "execution_count": 34,
   "metadata": {
    "colab": {
     "base_uri": "https://localhost:8080/",
     "height": 604
    },
    "executionInfo": {
     "elapsed": 343,
     "status": "ok",
     "timestamp": 1732563161872,
     "user": {
      "displayName": "Анна Кузьмина",
      "userId": "01853120478442476780"
     },
     "user_tz": -180
    },
    "id": "6oyTSZr9WhJ5",
    "outputId": "047a7107-bf55-4c74-d069-f0319c388bae"
   },
   "outputs": [
    {
     "name": "stderr",
     "output_type": "stream",
     "text": [
      "/var/folders/m8/xclh77116fv8fn8ck2n6sm1r0000gn/T/ipykernel_69080/884921015.py:3: FutureWarning: \n",
      "\n",
      "Passing `palette` without assigning `hue` is deprecated and will be removed in v0.14.0. Assign the `y` variable to `hue` and set `legend=False` for the same effect.\n",
      "\n",
      "  sns.barplot(x=freq3.values,y=freq3.index,  palette='viridis', orient='h')\n"
     ]
    },
    {
     "data": {
      "image/png": "[encoded data removed]",
      "text/plain": [
       "<Figure size 800x500 with 1 Axes>"
      ]
     },
     "metadata": {},
     "output_type": "display_data"
    }
   ],
   "source": [
    "# Построение гистограммы\n",
    "plt.figure(figsize=(8, 5))\n",
    "sns.barplot(x=freq3.values,y=freq3.index,  palette='viridis', orient='h')\n",
    "\n",
    "plt.title('Распределение уровня образования', fontsize=16)\n",
    "plt.ylabel('Уровень образования', fontsize=12)\n",
    "plt.xlabel('Количество людей', fontsize=12)\n",
    "plt.show()\n"
   ]
  },
  {
   "cell_type": "markdown",
   "metadata": {
    "id": "J9Y-TPAiWhJ6"
   },
   "source": [
    "Сабсет премии"
   ]
  },
  {
   "cell_type": "code",
   "execution_count": 35,
   "metadata": {
    "id": "Sp5HbrbNmmHp"
   },
   "outputs": [],
   "source": [
    "dataset4_prem = df['Премия']"
   ]
  },
  {
   "cell_type": "markdown",
   "metadata": {
    "id": "6NzYY8u4WhJ7"
   },
   "source": [
    "Сабсет отпуска\n",
    "\n"
   ]
  },
  {
   "cell_type": "code",
   "execution_count": 36,
   "metadata": {
    "id": "6RMLAOyOmrCG"
   },
   "outputs": [],
   "source": [
    "dataset4_otp = df['Отпуск']"
   ]
  },
  {
   "cell_type": "markdown",
   "metadata": {
    "id": "YzRxWBLLAnL8"
   },
   "source": [
    "# Объединенные значения статистик"
   ]
  },
  {
   "cell_type": "code",
   "execution_count": 37,
   "metadata": {
    "id": "Rt40xULBknfH"
   },
   "outputs": [],
   "source": [
    "# Список вычисляемых статистик\n",
    "characters = pd.DataFrame({\"Стат.характеристика\": [\"Среднее\", \"Медиана\", 'Стандартное отклонение', \"Размах\", '25%','75%', \"Асимметрия\", \"Эксцесс\"]})"
   ]
  },
  {
   "cell_type": "markdown",
   "metadata": {
    "id": "zh8jrv-87pYM"
   },
   "source": [
    "**Статистические данные по заработной плате**"
   ]
  },
  {
   "cell_type": "code",
   "execution_count": 38,
   "metadata": {
    "colab": {
     "base_uri": "https://localhost:8080/",
     "height": 300
    },
    "executionInfo": {
     "elapsed": 392,
     "status": "ok",
     "timestamp": 1732668735181,
     "user": {
      "displayName": "Анна Кузьмина",
      "userId": "01853120478442476780"
     },
     "user_tz": -180
    },
    "id": "KuTizRFKS20I",
    "outputId": "98ee9c2d-cb0e-4de8-adc5-2b18cbf44ecf"
   },
   "outputs": [
    {
     "data": {
      "text/html": [
       "<div>\n",
       "<style scoped>\n",
       "    .dataframe tbody tr th:only-of-type {\n",
       "        vertical-align: middle;\n",
       "    }\n",
       "\n",
       "    .dataframe tbody tr th {\n",
       "        vertical-align: top;\n",
       "    }\n",
       "\n",
       "    .dataframe thead th {\n",
       "        text-align: right;\n",
       "    }\n",
       "</style>\n",
       "<table border=\"1\" class=\"dataframe\">\n",
       "  <thead>\n",
       "    <tr style=\"text-align: right;\">\n",
       "      <th></th>\n",
       "      <th>Стат.характеристика</th>\n",
       "      <th>Датасет 1</th>\n",
       "      <th>Датасет 2</th>\n",
       "      <th>Датасет 3</th>\n",
       "      <th>Датасет 4</th>\n",
       "    </tr>\n",
       "  </thead>\n",
       "  <tbody>\n",
       "    <tr>\n",
       "      <th>0</th>\n",
       "      <td>Среднее</td>\n",
       "      <td>35397.891566</td>\n",
       "      <td>26836.833858</td>\n",
       "      <td>26660.402116</td>\n",
       "      <td>26753.449875</td>\n",
       "    </tr>\n",
       "    <tr>\n",
       "      <th>1</th>\n",
       "      <td>Медиана</td>\n",
       "      <td>30000.000000</td>\n",
       "      <td>25000.000000</td>\n",
       "      <td>25000.000000</td>\n",
       "      <td>25000.000000</td>\n",
       "    </tr>\n",
       "    <tr>\n",
       "      <th>2</th>\n",
       "      <td>Стандартное отклонение</td>\n",
       "      <td>20177.381208</td>\n",
       "      <td>11887.704559</td>\n",
       "      <td>11898.186489</td>\n",
       "      <td>12325.988183</td>\n",
       "    </tr>\n",
       "    <tr>\n",
       "      <th>3</th>\n",
       "      <td>Размах</td>\n",
       "      <td>192000.000000</td>\n",
       "      <td>66919.000000</td>\n",
       "      <td>66919.000000</td>\n",
       "      <td>66919.000000</td>\n",
       "    </tr>\n",
       "    <tr>\n",
       "      <th>4</th>\n",
       "      <td>25%</td>\n",
       "      <td>22000.000000</td>\n",
       "      <td>18000.000000</td>\n",
       "      <td>18000.000000</td>\n",
       "      <td>18000.000000</td>\n",
       "    </tr>\n",
       "    <tr>\n",
       "      <th>5</th>\n",
       "      <td>75%</td>\n",
       "      <td>45000.000000</td>\n",
       "      <td>33000.000000</td>\n",
       "      <td>33000.000000</td>\n",
       "      <td>35000.000000</td>\n",
       "    </tr>\n",
       "    <tr>\n",
       "      <th>6</th>\n",
       "      <td>Асимметрия</td>\n",
       "      <td>2.599485</td>\n",
       "      <td>0.786626</td>\n",
       "      <td>0.828745</td>\n",
       "      <td>0.765327</td>\n",
       "    </tr>\n",
       "    <tr>\n",
       "      <th>7</th>\n",
       "      <td>Эксцесс</td>\n",
       "      <td>13.939032</td>\n",
       "      <td>0.368804</td>\n",
       "      <td>0.404872</td>\n",
       "      <td>0.124377</td>\n",
       "    </tr>\n",
       "  </tbody>\n",
       "</table>\n",
       "</div>"
      ],
      "text/plain": [
       "      Стат.характеристика      Датасет 1     Датасет 2     Датасет 3  \\\n",
       "0                 Среднее   35397.891566  26836.833858  26660.402116   \n",
       "1                 Медиана   30000.000000  25000.000000  25000.000000   \n",
       "2  Стандартное отклонение   20177.381208  11887.704559  11898.186489   \n",
       "3                  Размах  192000.000000  66919.000000  66919.000000   \n",
       "4                     25%   22000.000000  18000.000000  18000.000000   \n",
       "5                     75%   45000.000000  33000.000000  33000.000000   \n",
       "6              Асимметрия       2.599485      0.786626      0.828745   \n",
       "7                 Эксцесс      13.939032      0.368804      0.404872   \n",
       "\n",
       "      Датасет 4  \n",
       "0  26753.449875  \n",
       "1  25000.000000  \n",
       "2  12325.988183  \n",
       "3  66919.000000  \n",
       "4  18000.000000  \n",
       "5  35000.000000  \n",
       "6      0.765327  \n",
       "7      0.124377  "
      ]
     },
     "execution_count": 38,
     "metadata": {},
     "output_type": "execute_result"
    }
   ],
   "source": [
    "stats_zp = pd.concat([characters, stats(dataset1_zp, 'Датасет 1'), stats(dataset2_zp, 'Датасет 2'), stats(dataset3_zp, 'Датасет 3'), stats(dataset4_zp, 'Датасет 4')], axis=1)\n",
    "stats_zp"
   ]
  },
  {
   "cell_type": "markdown",
   "metadata": {
    "id": "hIFSb-pM73fB"
   },
   "source": [
    "**Статистические данные по рабочей неделе**"
   ]
  },
  {
   "cell_type": "code",
   "execution_count": 39,
   "metadata": {
    "colab": {
     "base_uri": "https://localhost:8080/",
     "height": 300
    },
    "executionInfo": {
     "elapsed": 456,
     "status": "ok",
     "timestamp": 1732668741766,
     "user": {
      "displayName": "Анна Кузьмина",
      "userId": "01853120478442476780"
     },
     "user_tz": -180
    },
    "id": "MVWXWbVBm1ZM",
    "outputId": "07d66e67-21c1-4239-bdd8-ef436be9e42d"
   },
   "outputs": [
    {
     "data": {
      "text/html": [
       "<div>\n",
       "<style scoped>\n",
       "    .dataframe tbody tr th:only-of-type {\n",
       "        vertical-align: middle;\n",
       "    }\n",
       "\n",
       "    .dataframe tbody tr th {\n",
       "        vertical-align: top;\n",
       "    }\n",
       "\n",
       "    .dataframe thead th {\n",
       "        text-align: right;\n",
       "    }\n",
       "</style>\n",
       "<table border=\"1\" class=\"dataframe\">\n",
       "  <thead>\n",
       "    <tr style=\"text-align: right;\">\n",
       "      <th></th>\n",
       "      <th>Стат.характеристика</th>\n",
       "      <th>Датасет 1</th>\n",
       "      <th>Датасет 2</th>\n",
       "      <th>Датасет 3</th>\n",
       "      <th>Датасет 4</th>\n",
       "    </tr>\n",
       "  </thead>\n",
       "  <tbody>\n",
       "    <tr>\n",
       "      <th>0</th>\n",
       "      <td>Среднее</td>\n",
       "      <td>42.138554</td>\n",
       "      <td>42.470018</td>\n",
       "      <td>42.470018</td>\n",
       "      <td>42.470018</td>\n",
       "    </tr>\n",
       "    <tr>\n",
       "      <th>1</th>\n",
       "      <td>Медиана</td>\n",
       "      <td>40.000000</td>\n",
       "      <td>40.000000</td>\n",
       "      <td>40.000000</td>\n",
       "      <td>40.000000</td>\n",
       "    </tr>\n",
       "    <tr>\n",
       "      <th>2</th>\n",
       "      <td>Стандартное отклонение</td>\n",
       "      <td>7.471961</td>\n",
       "      <td>6.140560</td>\n",
       "      <td>6.140560</td>\n",
       "      <td>6.140560</td>\n",
       "    </tr>\n",
       "    <tr>\n",
       "      <th>3</th>\n",
       "      <td>Размах</td>\n",
       "      <td>68.000000</td>\n",
       "      <td>32.000000</td>\n",
       "      <td>32.000000</td>\n",
       "      <td>32.000000</td>\n",
       "    </tr>\n",
       "    <tr>\n",
       "      <th>4</th>\n",
       "      <td>25%</td>\n",
       "      <td>40.000000</td>\n",
       "      <td>40.000000</td>\n",
       "      <td>40.000000</td>\n",
       "      <td>40.000000</td>\n",
       "    </tr>\n",
       "    <tr>\n",
       "      <th>5</th>\n",
       "      <td>75%</td>\n",
       "      <td>45.000000</td>\n",
       "      <td>48.000000</td>\n",
       "      <td>48.000000</td>\n",
       "      <td>48.000000</td>\n",
       "    </tr>\n",
       "    <tr>\n",
       "      <th>6</th>\n",
       "      <td>Асимметрия</td>\n",
       "      <td>2.017340</td>\n",
       "      <td>0.917757</td>\n",
       "      <td>0.917757</td>\n",
       "      <td>0.917757</td>\n",
       "    </tr>\n",
       "    <tr>\n",
       "      <th>7</th>\n",
       "      <td>Эксцесс</td>\n",
       "      <td>8.646396</td>\n",
       "      <td>1.292191</td>\n",
       "      <td>1.292191</td>\n",
       "      <td>1.292191</td>\n",
       "    </tr>\n",
       "  </tbody>\n",
       "</table>\n",
       "</div>"
      ],
      "text/plain": [
       "      Стат.характеристика  Датасет 1  Датасет 2  Датасет 3  Датасет 4\n",
       "0                 Среднее  42.138554  42.470018  42.470018  42.470018\n",
       "1                 Медиана  40.000000  40.000000  40.000000  40.000000\n",
       "2  Стандартное отклонение   7.471961   6.140560   6.140560   6.140560\n",
       "3                  Размах  68.000000  32.000000  32.000000  32.000000\n",
       "4                     25%  40.000000  40.000000  40.000000  40.000000\n",
       "5                     75%  45.000000  48.000000  48.000000  48.000000\n",
       "6              Асимметрия   2.017340   0.917757   0.917757   0.917757\n",
       "7                 Эксцесс   8.646396   1.292191   1.292191   1.292191"
      ]
     },
     "execution_count": 39,
     "metadata": {},
     "output_type": "execute_result"
    }
   ],
   "source": [
    "stats_rn = pd.concat([characters, stats(dataset1_rn, 'Датасет 1'), stats(dataset2_rn, 'Датасет 2'), stats(dataset3_rn, 'Датасет 3'), stats(dataset4_rn, 'Датасет 4')], axis=1)\n",
    "stats_rn"
   ]
  },
  {
   "cell_type": "markdown",
   "metadata": {
    "id": "bNuH1Wnf7-wm"
   },
   "source": [
    "**Статистические данные по премии за прошлый месяц**"
   ]
  },
  {
   "cell_type": "code",
   "execution_count": 40,
   "metadata": {
    "colab": {
     "base_uri": "https://localhost:8080/",
     "height": 300
    },
    "executionInfo": {
     "elapsed": 517,
     "status": "ok",
     "timestamp": 1732668752092,
     "user": {
      "displayName": "Анна Кузьмина",
      "userId": "01853120478442476780"
     },
     "user_tz": -180
    },
    "id": "MZKXc-v3nAKV",
    "outputId": "941435b4-7106-4334-fe2f-f9e650006f51"
   },
   "outputs": [
    {
     "data": {
      "text/html": [
       "<div>\n",
       "<style scoped>\n",
       "    .dataframe tbody tr th:only-of-type {\n",
       "        vertical-align: middle;\n",
       "    }\n",
       "\n",
       "    .dataframe tbody tr th {\n",
       "        vertical-align: top;\n",
       "    }\n",
       "\n",
       "    .dataframe thead th {\n",
       "        text-align: right;\n",
       "    }\n",
       "</style>\n",
       "<table border=\"1\" class=\"dataframe\">\n",
       "  <thead>\n",
       "    <tr style=\"text-align: right;\">\n",
       "      <th></th>\n",
       "      <th>Стат.характеристика</th>\n",
       "      <th>Датасет 1</th>\n",
       "      <th>Датасет 2</th>\n",
       "      <th>Датасет 3</th>\n",
       "      <th>Датасет 4</th>\n",
       "    </tr>\n",
       "  </thead>\n",
       "  <tbody>\n",
       "    <tr>\n",
       "      <th>0</th>\n",
       "      <td>Среднее</td>\n",
       "      <td>8507.382530</td>\n",
       "      <td>6483.539165</td>\n",
       "      <td>5135.962963</td>\n",
       "      <td>6045.898853</td>\n",
       "    </tr>\n",
       "    <tr>\n",
       "      <th>1</th>\n",
       "      <td>Медиана</td>\n",
       "      <td>5000.000000</td>\n",
       "      <td>6487.010782</td>\n",
       "      <td>5000.000000</td>\n",
       "      <td>5000.000000</td>\n",
       "    </tr>\n",
       "    <tr>\n",
       "      <th>2</th>\n",
       "      <td>Стандартное отклонение</td>\n",
       "      <td>8587.842925</td>\n",
       "      <td>1448.828069</td>\n",
       "      <td>1509.186854</td>\n",
       "      <td>4166.925881</td>\n",
       "    </tr>\n",
       "    <tr>\n",
       "      <th>3</th>\n",
       "      <td>Размах</td>\n",
       "      <td>59800.000000</td>\n",
       "      <td>19800.000000</td>\n",
       "      <td>19800.000000</td>\n",
       "      <td>19800.000000</td>\n",
       "    </tr>\n",
       "    <tr>\n",
       "      <th>4</th>\n",
       "      <td>25%</td>\n",
       "      <td>3000.000000</td>\n",
       "      <td>6487.010782</td>\n",
       "      <td>5000.000000</td>\n",
       "      <td>2880.703673</td>\n",
       "    </tr>\n",
       "    <tr>\n",
       "      <th>5</th>\n",
       "      <td>75%</td>\n",
       "      <td>10000.000000</td>\n",
       "      <td>6487.010782</td>\n",
       "      <td>5000.000000</td>\n",
       "      <td>8235.430504</td>\n",
       "    </tr>\n",
       "    <tr>\n",
       "      <th>6</th>\n",
       "      <td>Асимметрия</td>\n",
       "      <td>2.456105</td>\n",
       "      <td>3.919670</td>\n",
       "      <td>5.998908</td>\n",
       "      <td>1.120619</td>\n",
       "    </tr>\n",
       "    <tr>\n",
       "      <th>7</th>\n",
       "      <td>Эксцесс</td>\n",
       "      <td>7.808316</td>\n",
       "      <td>40.098519</td>\n",
       "      <td>50.474169</td>\n",
       "      <td>0.814228</td>\n",
       "    </tr>\n",
       "  </tbody>\n",
       "</table>\n",
       "</div>"
      ],
      "text/plain": [
       "      Стат.характеристика     Датасет 1     Датасет 2     Датасет 3  \\\n",
       "0                 Среднее   8507.382530   6483.539165   5135.962963   \n",
       "1                 Медиана   5000.000000   6487.010782   5000.000000   \n",
       "2  Стандартное отклонение   8587.842925   1448.828069   1509.186854   \n",
       "3                  Размах  59800.000000  19800.000000  19800.000000   \n",
       "4                     25%   3000.000000   6487.010782   5000.000000   \n",
       "5                     75%  10000.000000   6487.010782   5000.000000   \n",
       "6              Асимметрия      2.456105      3.919670      5.998908   \n",
       "7                 Эксцесс      7.808316     40.098519     50.474169   \n",
       "\n",
       "      Датасет 4  \n",
       "0   6045.898853  \n",
       "1   5000.000000  \n",
       "2   4166.925881  \n",
       "3  19800.000000  \n",
       "4   2880.703673  \n",
       "5   8235.430504  \n",
       "6      1.120619  \n",
       "7      0.814228  "
      ]
     },
     "execution_count": 40,
     "metadata": {},
     "output_type": "execute_result"
    }
   ],
   "source": [
    "stats_prem = pd.concat([characters, stats(dataset1_prem, 'Датасет 1'), stats(dataset2_prem, 'Датасет 2'), stats(dataset3_prem, 'Датасет 3'), stats(dataset4_prem, 'Датасет 4')], axis=1)\n",
    "stats_prem"
   ]
  },
  {
   "cell_type": "markdown",
   "metadata": {
    "id": "ulviAN4R8FX-"
   },
   "source": [
    "**Статистические данные по отпуску**"
   ]
  },
  {
   "cell_type": "code",
   "execution_count": 41,
   "metadata": {
    "colab": {
     "base_uri": "https://localhost:8080/",
     "height": 300
    },
    "executionInfo": {
     "elapsed": 365,
     "status": "ok",
     "timestamp": 1732668758707,
     "user": {
      "displayName": "Анна Кузьмина",
      "userId": "01853120478442476780"
     },
     "user_tz": -180
    },
    "id": "i3t5zPVnm__0",
    "outputId": "5da31723-1098-4925-b4dd-9bef586d06b7"
   },
   "outputs": [
    {
     "data": {
      "text/html": [
       "<div>\n",
       "<style scoped>\n",
       "    .dataframe tbody tr th:only-of-type {\n",
       "        vertical-align: middle;\n",
       "    }\n",
       "\n",
       "    .dataframe tbody tr th {\n",
       "        vertical-align: top;\n",
       "    }\n",
       "\n",
       "    .dataframe thead th {\n",
       "        text-align: right;\n",
       "    }\n",
       "</style>\n",
       "<table border=\"1\" class=\"dataframe\">\n",
       "  <thead>\n",
       "    <tr style=\"text-align: right;\">\n",
       "      <th></th>\n",
       "      <th>Стат.характеристика</th>\n",
       "      <th>Датасет 1</th>\n",
       "      <th>Датасет 2</th>\n",
       "      <th>Датасет 3</th>\n",
       "      <th>Датасет 4</th>\n",
       "    </tr>\n",
       "  </thead>\n",
       "  <tbody>\n",
       "    <tr>\n",
       "      <th>0</th>\n",
       "      <td>Среднее</td>\n",
       "      <td>30.415663</td>\n",
       "      <td>30.415663</td>\n",
       "      <td>27.595532</td>\n",
       "      <td>27.691946</td>\n",
       "    </tr>\n",
       "    <tr>\n",
       "      <th>1</th>\n",
       "      <td>Медиана</td>\n",
       "      <td>28.000000</td>\n",
       "      <td>28.000000</td>\n",
       "      <td>28.000000</td>\n",
       "      <td>28.000000</td>\n",
       "    </tr>\n",
       "    <tr>\n",
       "      <th>2</th>\n",
       "      <td>Стандартное отклонение</td>\n",
       "      <td>11.311131</td>\n",
       "      <td>11.311131</td>\n",
       "      <td>6.722593</td>\n",
       "      <td>8.223423</td>\n",
       "    </tr>\n",
       "    <tr>\n",
       "      <th>3</th>\n",
       "      <td>Размах</td>\n",
       "      <td>53.000000</td>\n",
       "      <td>53.000000</td>\n",
       "      <td>43.000000</td>\n",
       "      <td>43.000000</td>\n",
       "    </tr>\n",
       "    <tr>\n",
       "      <th>4</th>\n",
       "      <td>25%</td>\n",
       "      <td>28.000000</td>\n",
       "      <td>28.000000</td>\n",
       "      <td>28.000000</td>\n",
       "      <td>24.000000</td>\n",
       "    </tr>\n",
       "    <tr>\n",
       "      <th>5</th>\n",
       "      <td>75%</td>\n",
       "      <td>36.000000</td>\n",
       "      <td>36.000000</td>\n",
       "      <td>28.000000</td>\n",
       "      <td>32.000000</td>\n",
       "    </tr>\n",
       "    <tr>\n",
       "      <th>6</th>\n",
       "      <td>Асимметрия</td>\n",
       "      <td>0.587123</td>\n",
       "      <td>0.587123</td>\n",
       "      <td>0.086116</td>\n",
       "      <td>0.082939</td>\n",
       "    </tr>\n",
       "    <tr>\n",
       "      <th>7</th>\n",
       "      <td>Эксцесс</td>\n",
       "      <td>0.235175</td>\n",
       "      <td>0.235175</td>\n",
       "      <td>1.717157</td>\n",
       "      <td>-0.077500</td>\n",
       "    </tr>\n",
       "  </tbody>\n",
       "</table>\n",
       "</div>"
      ],
      "text/plain": [
       "      Стат.характеристика  Датасет 1  Датасет 2  Датасет 3  Датасет 4\n",
       "0                 Среднее  30.415663  30.415663  27.595532  27.691946\n",
       "1                 Медиана  28.000000  28.000000  28.000000  28.000000\n",
       "2  Стандартное отклонение  11.311131  11.311131   6.722593   8.223423\n",
       "3                  Размах  53.000000  53.000000  43.000000  43.000000\n",
       "4                     25%  28.000000  28.000000  28.000000  24.000000\n",
       "5                     75%  36.000000  36.000000  28.000000  32.000000\n",
       "6              Асимметрия   0.587123   0.587123   0.086116   0.082939\n",
       "7                 Эксцесс   0.235175   0.235175   1.717157  -0.077500"
      ]
     },
     "execution_count": 41,
     "metadata": {},
     "output_type": "execute_result"
    }
   ],
   "source": [
    "stats_otp = pd.concat([characters, stats(dataset1_otp, 'Датасет 1'), stats(dataset2_otp, 'Датасет 2'), stats(dataset3_otp, 'Датасет 3'), stats(dataset4_otp, 'Датасет 4')], axis=1)\n",
    "stats_otp"
   ]
  },
  {
   "cell_type": "markdown",
   "metadata": {
    "id": "AoQsahEJ8z5V"
   },
   "source": [
    "**Ящики с усами для всех переменных**"
   ]
  },
  {
   "cell_type": "code",
   "execution_count": 42,
   "metadata": {
    "colab": {
     "base_uri": "https://localhost:8080/",
     "height": 386
    },
    "executionInfo": {
     "elapsed": 451,
     "status": "ok",
     "timestamp": 1732668787602,
     "user": {
      "displayName": "Анна Кузьмина",
      "userId": "01853120478442476780"
     },
     "user_tz": -180
    },
    "id": "v321HZJX2FHB",
    "outputId": "96ebf703-33f5-4230-ec82-ab938a1879f8"
   },
   "outputs": [
    {
     "data": {
      "image/png": "[encoded data removed]",
      "text/plain": [
       "<Figure size 800x400 with 1 Axes>"
      ]
     },
     "metadata": {},
     "output_type": "display_data"
    }
   ],
   "source": [
    "data = [dataset1_zp, dataset2_zp, dataset3_zp, dataset4_zp]\n",
    "labels = [\"Датасет 1\", \"Датасет 2\", \"Датасет 3\", \"Датасет 4\"]\n",
    "\n",
    "plt.figure(figsize=(8, 4))\n",
    "\n",
    "# Построение ящика с усами\n",
    "boxplot = plt.boxplot(data,\n",
    "                      vert=False,\n",
    "                      patch_artist=True,\n",
    "                      showmeans=True,\n",
    "                      meanline=True,\n",
    "                      boxprops=dict(facecolor=\"lightblue\", color=\"black\"),\n",
    "                      meanprops=dict(color=\"red\", linestyle='--', linewidth=1.5),\n",
    "                      medianprops=dict(color=\"orange\", linewidth=2),\n",
    "                      flierprops=dict(marker='o', color='black', markersize=5))\n",
    "\n",
    "plt.yticks(range(1, len(labels) + 1), labels)\n",
    "plt.xlabel(\"Рубли\")\n",
    "plt.title(\"Ящики с усами для зарплат\")\n",
    "\n",
    "legend_elements = [\n",
    "    plt.Line2D([0], [0], color='lightblue', lw=10, label='Интерквартильный размах'),\n",
    "    plt.Line2D([0], [0], color='orange', lw=2, label='Медиана'),\n",
    "    plt.Line2D([0], [0], color='red', linestyle='--', lw=1.5, label='Среднее значение'),\n",
    "    plt.Line2D([0], [0], marker='o', color='black', markersize=5, linestyle='None', label='Выбросы')\n",
    "]\n",
    "\n",
    "plt.legend(handles=legend_elements, loc='upper right')\n",
    "plt.tight_layout()\n",
    "plt.show()\n"
   ]
  },
  {
   "cell_type": "code",
   "execution_count": 43,
   "metadata": {
    "colab": {
     "base_uri": "https://localhost:8080/",
     "height": 312
    },
    "executionInfo": {
     "elapsed": 565,
     "status": "ok",
     "timestamp": 1732665705987,
     "user": {
      "displayName": "Анна Кузьмина",
      "userId": "01853120478442476780"
     },
     "user_tz": -180
    },
    "id": "cTiQLGEA22z7",
    "outputId": "08b9e112-2757-4ef3-a5ea-a98bb3218f14"
   },
   "outputs": [
    {
     "data": {
      "image/png": "[encoded data removed]",
      "text/plain": [
       "<Figure size 1000x400 with 1 Axes>"
      ]
     },
     "metadata": {},
     "output_type": "display_data"
    }
   ],
   "source": [
    "data = [dataset1_rn, dataset2_rn, dataset3_rn, dataset4_rn]\n",
    "labels = [\"Датасет 1\", \"Датасет 2\", \"Датасет 3\", \"Датасет 4\"]\n",
    "\n",
    "plt.figure(figsize=(10, 4))\n",
    "data_np = [np.array(i.dropna()) for i in data]\n",
    "\n",
    "\n",
    "boxplot = plt.boxplot(data_np,\n",
    "                      vert=False,\n",
    "                      patch_artist=True,\n",
    "                      showmeans=True,\n",
    "                      meanline=True,\n",
    "                      boxprops=dict(facecolor=\"lightblue\", color=\"black\"),\n",
    "                      meanprops=dict(color=\"red\", linestyle='--', linewidth=1.5),\n",
    "                      medianprops=dict(color=\"orange\", linewidth=2),\n",
    "                      flierprops=dict(marker='o', color='black', markersize=5))\n",
    "\n",
    "plt.yticks(range(1, len(labels) + 1), labels)\n",
    "plt.xlabel(\"Часы\")\n",
    "plt.title(\"Ящики с усами для рабочей недели\")\n",
    "\n",
    "legend_elements = [\n",
    "    plt.Line2D([0], [0], color='lightblue', lw=10, label='Интерквартильный размах'),\n",
    "    plt.Line2D([0], [0], color='orange', lw=2, label='Медиана'),\n",
    "    plt.Line2D([0], [0], color='red', linestyle='--', lw=1.5, label='Среднее значение'),\n",
    "    plt.Line2D([0], [0], marker='o', color='black', markersize=5, linestyle='None', label='Выбросы')\n",
    "]\n",
    "\n",
    "plt.legend(handles=legend_elements, loc='upper right')\n",
    "plt.tight_layout()\n",
    "plt.show()"
   ]
  },
  {
   "cell_type": "code",
   "execution_count": 44,
   "metadata": {
    "colab": {
     "base_uri": "https://localhost:8080/",
     "height": 311
    },
    "executionInfo": {
     "elapsed": 780,
     "status": "ok",
     "timestamp": 1732668826340,
     "user": {
      "displayName": "Анна Кузьмина",
      "userId": "01853120478442476780"
     },
     "user_tz": -180
    },
    "id": "m2DxqhFi3Lgj",
    "outputId": "905d0052-9160-422c-fdad-42b31ac67e81"
   },
   "outputs": [
    {
     "data": {
      "image/png": "[encoded data removed]",
      "text/plain": [
       "<Figure size 1000x400 with 1 Axes>"
      ]
     },
     "metadata": {},
     "output_type": "display_data"
    }
   ],
   "source": [
    "data = [dataset1_prem, dataset2_prem, dataset3_prem, dataset4_prem]\n",
    "labels = [\"Датасет 1\", \"Датасет 2\", \"Датасет 3\", \"Датасет 4\"]\n",
    "\n",
    "plt.figure(figsize=(10, 4))\n",
    "\n",
    "boxplot = plt.boxplot(data,\n",
    "                      vert=False,\n",
    "                      patch_artist=True,\n",
    "                      showmeans=True,\n",
    "                      meanline=True,\n",
    "                      boxprops=dict(facecolor=\"lightblue\", color=\"black\"),\n",
    "                      meanprops=dict(color=\"red\", linestyle='--', linewidth=1.5),\n",
    "                      medianprops=dict(color=\"orange\", linewidth=2),\n",
    "                      flierprops=dict(marker='o', color='black', markersize=5))\n",
    "\n",
    "plt.yticks(range(1, len(labels) + 1), labels)\n",
    "plt.xlabel(\"Рубли\")\n",
    "plt.title(\"Ящики с усами для премии\")\n",
    "\n",
    "legend_elements = [\n",
    "    plt.Line2D([0], [0], color='lightblue', lw=10, label='Интерквартильный размах'),\n",
    "    plt.Line2D([0], [0], color='orange', lw=2, label='Медиана'),\n",
    "    plt.Line2D([0], [0], color='red', linestyle='--', lw=1.5, label='Среднее значение'),\n",
    "    plt.Line2D([0], [0], marker='o', color='black', markersize=5, linestyle='None', label='Выбросы')\n",
    "]\n",
    "\n",
    "plt.legend(handles=legend_elements, loc='upper right')\n",
    "plt.tight_layout()\n",
    "plt.show()"
   ]
  },
  {
   "cell_type": "code",
   "execution_count": 45,
   "metadata": {
    "colab": {
     "base_uri": "https://localhost:8080/",
     "height": 311
    },
    "executionInfo": {
     "elapsed": 555,
     "status": "ok",
     "timestamp": 1732664915711,
     "user": {
      "displayName": "Анна Кузьмина",
      "userId": "01853120478442476780"
     },
     "user_tz": -180
    },
    "id": "utmOst_G3eXs",
    "outputId": "bea5d5e3-b4f7-429a-8837-2073338e382e"
   },
   "outputs": [
    {
     "data": {
      "image/png": "[encoded data removed]",
      "text/plain": [
       "<Figure size 1000x400 with 1 Axes>"
      ]
     },
     "metadata": {},
     "output_type": "display_data"
    }
   ],
   "source": [
    "data = [dataset1_otp, dataset2_otp, dataset3_otp, dataset4_otp]\n",
    "labels = [\"Датасет 1\", \"Датасет 2\", \"Датасет 3\", \"Датасет 4\"]\n",
    "\n",
    "plt.figure(figsize=(10, 4))\n",
    "data_np = [np.array(i.dropna()) for i in data]\n",
    "\n",
    "\n",
    "boxplot = plt.boxplot(data_np,\n",
    "                      vert=False,\n",
    "                      patch_artist=True,\n",
    "                      showmeans=True,\n",
    "                      meanline=True,\n",
    "                      boxprops=dict(facecolor=\"lightblue\", color=\"black\"),\n",
    "                      meanprops=dict(color=\"red\", linestyle='--', linewidth=1.5),\n",
    "                      medianprops=dict(color=\"orange\", linewidth=2),\n",
    "                      flierprops=dict(marker='o', color='black', markersize=5))\n",
    "\n",
    "plt.yticks(range(1, len(labels) + 1), labels)\n",
    "plt.xlabel(\"Дни\")\n",
    "plt.title(\"Ящики с усами для отпуска\")\n",
    "\n",
    "legend_elements = [\n",
    "    plt.Line2D([0], [0], color='lightblue', lw=10, label='Интерквартильный размах'),\n",
    "    plt.Line2D([0], [0], color='orange', lw=2, label='Медиана'),\n",
    "    plt.Line2D([0], [0], color='red', linestyle='--', lw=1.5, label='Среднее значение'),\n",
    "    plt.Line2D([0], [0], marker='o', color='black', markersize=5, linestyle='None', label='Выбросы')\n",
    "]\n",
    "\n",
    "plt.legend(handles=legend_elements, loc='upper right')\n",
    "plt.tight_layout()\n",
    "plt.show()"
   ]
  },
  {
   "cell_type": "code",
   "execution_count": null,
   "metadata": {},
   "outputs": [],
   "source": []
  }
 ],
 "metadata": {
  "colab": {
   "provenance": []
  },
  "kernelspec": {
   "display_name": "venv",
   "language": "python",
   "name": "python3"
  },
  "language_info": {
   "codemirror_mode": {
    "name": "ipython",
    "version": 3
   },
   "file_extension": ".py",
   "mimetype": "text/x-python",
   "name": "python",
   "nbconvert_exporter": "python",
   "pygments_lexer": "ipython3",
   "version": "3.12.3"
  }
 },
 "nbformat": 4,
 "nbformat_minor": 0
}
